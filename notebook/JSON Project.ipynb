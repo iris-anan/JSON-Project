{
 "cells": [
  {
   "cell_type": "markdown",
   "metadata": {},
   "source": [
    "# Import packages for project"
   ]
  },
  {
   "cell_type": "code",
   "execution_count": 116,
   "metadata": {},
   "outputs": [],
   "source": [
    "import pandas as pd\n",
    "import json\n",
    "from collections import defaultdict"
   ]
  },
  {
   "cell_type": "markdown",
   "metadata": {},
   "source": [
    "# Open file"
   ]
  },
  {
   "cell_type": "code",
   "execution_count": 65,
   "metadata": {},
   "outputs": [],
   "source": [
    "with open('../data/world_bank_projects.json') as file:\n",
    "    df = pd.read_json(file)"
   ]
  },
  {
   "cell_type": "markdown",
   "metadata": {},
   "source": [
    "# Inspecting Data"
   ]
  },
  {
   "cell_type": "code",
   "execution_count": 46,
   "metadata": {},
   "outputs": [
    {
     "data": {
      "text/html": [
       "<div>\n",
       "<style scoped>\n",
       "    .dataframe tbody tr th:only-of-type {\n",
       "        vertical-align: middle;\n",
       "    }\n",
       "\n",
       "    .dataframe tbody tr th {\n",
       "        vertical-align: top;\n",
       "    }\n",
       "\n",
       "    .dataframe thead th {\n",
       "        text-align: right;\n",
       "    }\n",
       "</style>\n",
       "<table border=\"1\" class=\"dataframe\">\n",
       "  <thead>\n",
       "    <tr style=\"text-align: right;\">\n",
       "      <th></th>\n",
       "      <th>approvalfy</th>\n",
       "      <th>board_approval_month</th>\n",
       "      <th>boardapprovaldate</th>\n",
       "      <th>borrower</th>\n",
       "      <th>closingdate</th>\n",
       "      <th>country_namecode</th>\n",
       "      <th>countrycode</th>\n",
       "      <th>countryname</th>\n",
       "      <th>countryshortname</th>\n",
       "      <th>docty</th>\n",
       "      <th>...</th>\n",
       "      <th>sectorcode</th>\n",
       "      <th>source</th>\n",
       "      <th>status</th>\n",
       "      <th>supplementprojectflg</th>\n",
       "      <th>theme1</th>\n",
       "      <th>theme_namecode</th>\n",
       "      <th>themecode</th>\n",
       "      <th>totalamt</th>\n",
       "      <th>totalcommamt</th>\n",
       "      <th>url</th>\n",
       "    </tr>\n",
       "    <tr>\n",
       "      <th>_id</th>\n",
       "      <th></th>\n",
       "      <th></th>\n",
       "      <th></th>\n",
       "      <th></th>\n",
       "      <th></th>\n",
       "      <th></th>\n",
       "      <th></th>\n",
       "      <th></th>\n",
       "      <th></th>\n",
       "      <th></th>\n",
       "      <th></th>\n",
       "      <th></th>\n",
       "      <th></th>\n",
       "      <th></th>\n",
       "      <th></th>\n",
       "      <th></th>\n",
       "      <th></th>\n",
       "      <th></th>\n",
       "      <th></th>\n",
       "      <th></th>\n",
       "      <th></th>\n",
       "    </tr>\n",
       "  </thead>\n",
       "  <tbody>\n",
       "    <tr>\n",
       "      <th>{'$oid': '52b213b38594d8a2be17c780'}</th>\n",
       "      <td>1999</td>\n",
       "      <td>November</td>\n",
       "      <td>2013-11-12T00:00:00Z</td>\n",
       "      <td>FEDERAL DEMOCRATIC REPUBLIC OF ETHIOPIA</td>\n",
       "      <td>2018-07-07T00:00:00Z</td>\n",
       "      <td>Federal Democratic Republic of Ethiopia!$!ET</td>\n",
       "      <td>ET</td>\n",
       "      <td>Federal Democratic Republic of Ethiopia</td>\n",
       "      <td>Ethiopia</td>\n",
       "      <td>Project Information Document,Indigenous People...</td>\n",
       "      <td>...</td>\n",
       "      <td>ET,BS,ES,EP</td>\n",
       "      <td>IBRD</td>\n",
       "      <td>Active</td>\n",
       "      <td>N</td>\n",
       "      <td>{'Percent': 100, 'Name': 'Education for all'}</td>\n",
       "      <td>[{'code': '65', 'name': 'Education for all'}]</td>\n",
       "      <td>65</td>\n",
       "      <td>130000000</td>\n",
       "      <td>130000000</td>\n",
       "      <td>http://www.worldbank.org/projects/P129828/ethi...</td>\n",
       "    </tr>\n",
       "    <tr>\n",
       "      <th>{'$oid': '52b213b38594d8a2be17c781'}</th>\n",
       "      <td>2015</td>\n",
       "      <td>November</td>\n",
       "      <td>2013-11-04T00:00:00Z</td>\n",
       "      <td>GOVERNMENT OF TUNISIA</td>\n",
       "      <td>NaN</td>\n",
       "      <td>Republic of Tunisia!$!TN</td>\n",
       "      <td>TN</td>\n",
       "      <td>Republic of Tunisia</td>\n",
       "      <td>Tunisia</td>\n",
       "      <td>Project Information Document,Integrated Safegu...</td>\n",
       "      <td>...</td>\n",
       "      <td>BZ,BS</td>\n",
       "      <td>IBRD</td>\n",
       "      <td>Active</td>\n",
       "      <td>N</td>\n",
       "      <td>{'Percent': 30, 'Name': 'Other economic manage...</td>\n",
       "      <td>[{'code': '24', 'name': 'Other economic manage...</td>\n",
       "      <td>54,24</td>\n",
       "      <td>0</td>\n",
       "      <td>4700000</td>\n",
       "      <td>http://www.worldbank.org/projects/P144674?lang=en</td>\n",
       "    </tr>\n",
       "    <tr>\n",
       "      <th>{'$oid': '52b213b38594d8a2be17c782'}</th>\n",
       "      <td>2014</td>\n",
       "      <td>November</td>\n",
       "      <td>2013-11-01T00:00:00Z</td>\n",
       "      <td>MINISTRY OF FINANCE AND ECONOMIC DEVEL</td>\n",
       "      <td>NaN</td>\n",
       "      <td>Tuvalu!$!TV</td>\n",
       "      <td>TV</td>\n",
       "      <td>Tuvalu</td>\n",
       "      <td>Tuvalu</td>\n",
       "      <td>Resettlement Plan,Environmental Assessment,Int...</td>\n",
       "      <td>...</td>\n",
       "      <td>TI</td>\n",
       "      <td>IBRD</td>\n",
       "      <td>Active</td>\n",
       "      <td>Y</td>\n",
       "      <td>{'Percent': 46, 'Name': 'Regional integration'}</td>\n",
       "      <td>[{'code': '47', 'name': 'Regional integration'...</td>\n",
       "      <td>52,81,25,47</td>\n",
       "      <td>6060000</td>\n",
       "      <td>6060000</td>\n",
       "      <td>http://www.worldbank.org/projects/P145310?lang=en</td>\n",
       "    </tr>\n",
       "  </tbody>\n",
       "</table>\n",
       "<p>3 rows × 49 columns</p>\n",
       "</div>"
      ],
      "text/plain": [
       "                                      approvalfy board_approval_month  \\\n",
       "_id                                                                     \n",
       "{'$oid': '52b213b38594d8a2be17c780'}        1999             November   \n",
       "{'$oid': '52b213b38594d8a2be17c781'}        2015             November   \n",
       "{'$oid': '52b213b38594d8a2be17c782'}        2014             November   \n",
       "\n",
       "                                         boardapprovaldate  \\\n",
       "_id                                                          \n",
       "{'$oid': '52b213b38594d8a2be17c780'}  2013-11-12T00:00:00Z   \n",
       "{'$oid': '52b213b38594d8a2be17c781'}  2013-11-04T00:00:00Z   \n",
       "{'$oid': '52b213b38594d8a2be17c782'}  2013-11-01T00:00:00Z   \n",
       "\n",
       "                                                                     borrower  \\\n",
       "_id                                                                             \n",
       "{'$oid': '52b213b38594d8a2be17c780'}  FEDERAL DEMOCRATIC REPUBLIC OF ETHIOPIA   \n",
       "{'$oid': '52b213b38594d8a2be17c781'}                    GOVERNMENT OF TUNISIA   \n",
       "{'$oid': '52b213b38594d8a2be17c782'}   MINISTRY OF FINANCE AND ECONOMIC DEVEL   \n",
       "\n",
       "                                               closingdate  \\\n",
       "_id                                                          \n",
       "{'$oid': '52b213b38594d8a2be17c780'}  2018-07-07T00:00:00Z   \n",
       "{'$oid': '52b213b38594d8a2be17c781'}                   NaN   \n",
       "{'$oid': '52b213b38594d8a2be17c782'}                   NaN   \n",
       "\n",
       "                                                                  country_namecode  \\\n",
       "_id                                                                                  \n",
       "{'$oid': '52b213b38594d8a2be17c780'}  Federal Democratic Republic of Ethiopia!$!ET   \n",
       "{'$oid': '52b213b38594d8a2be17c781'}                      Republic of Tunisia!$!TN   \n",
       "{'$oid': '52b213b38594d8a2be17c782'}                                   Tuvalu!$!TV   \n",
       "\n",
       "                                     countrycode  \\\n",
       "_id                                                \n",
       "{'$oid': '52b213b38594d8a2be17c780'}          ET   \n",
       "{'$oid': '52b213b38594d8a2be17c781'}          TN   \n",
       "{'$oid': '52b213b38594d8a2be17c782'}          TV   \n",
       "\n",
       "                                                                  countryname  \\\n",
       "_id                                                                             \n",
       "{'$oid': '52b213b38594d8a2be17c780'}  Federal Democratic Republic of Ethiopia   \n",
       "{'$oid': '52b213b38594d8a2be17c781'}                      Republic of Tunisia   \n",
       "{'$oid': '52b213b38594d8a2be17c782'}                                   Tuvalu   \n",
       "\n",
       "                                     countryshortname  \\\n",
       "_id                                                     \n",
       "{'$oid': '52b213b38594d8a2be17c780'}         Ethiopia   \n",
       "{'$oid': '52b213b38594d8a2be17c781'}          Tunisia   \n",
       "{'$oid': '52b213b38594d8a2be17c782'}           Tuvalu   \n",
       "\n",
       "                                                                                  docty  \\\n",
       "_id                                                                                       \n",
       "{'$oid': '52b213b38594d8a2be17c780'}  Project Information Document,Indigenous People...   \n",
       "{'$oid': '52b213b38594d8a2be17c781'}  Project Information Document,Integrated Safegu...   \n",
       "{'$oid': '52b213b38594d8a2be17c782'}  Resettlement Plan,Environmental Assessment,Int...   \n",
       "\n",
       "                                                            ...                          \\\n",
       "_id                                                         ...                           \n",
       "{'$oid': '52b213b38594d8a2be17c780'}                        ...                           \n",
       "{'$oid': '52b213b38594d8a2be17c781'}                        ...                           \n",
       "{'$oid': '52b213b38594d8a2be17c782'}                        ...                           \n",
       "\n",
       "                                       sectorcode  source  status  \\\n",
       "_id                                                                 \n",
       "{'$oid': '52b213b38594d8a2be17c780'}  ET,BS,ES,EP    IBRD  Active   \n",
       "{'$oid': '52b213b38594d8a2be17c781'}        BZ,BS    IBRD  Active   \n",
       "{'$oid': '52b213b38594d8a2be17c782'}           TI    IBRD  Active   \n",
       "\n",
       "                                     supplementprojectflg  \\\n",
       "_id                                                         \n",
       "{'$oid': '52b213b38594d8a2be17c780'}                    N   \n",
       "{'$oid': '52b213b38594d8a2be17c781'}                    N   \n",
       "{'$oid': '52b213b38594d8a2be17c782'}                    Y   \n",
       "\n",
       "                                                                                 theme1  \\\n",
       "_id                                                                                       \n",
       "{'$oid': '52b213b38594d8a2be17c780'}      {'Percent': 100, 'Name': 'Education for all'}   \n",
       "{'$oid': '52b213b38594d8a2be17c781'}  {'Percent': 30, 'Name': 'Other economic manage...   \n",
       "{'$oid': '52b213b38594d8a2be17c782'}    {'Percent': 46, 'Name': 'Regional integration'}   \n",
       "\n",
       "                                                                         theme_namecode  \\\n",
       "_id                                                                                       \n",
       "{'$oid': '52b213b38594d8a2be17c780'}      [{'code': '65', 'name': 'Education for all'}]   \n",
       "{'$oid': '52b213b38594d8a2be17c781'}  [{'code': '24', 'name': 'Other economic manage...   \n",
       "{'$oid': '52b213b38594d8a2be17c782'}  [{'code': '47', 'name': 'Regional integration'...   \n",
       "\n",
       "                                        themecode   totalamt  totalcommamt  \\\n",
       "_id                                                                          \n",
       "{'$oid': '52b213b38594d8a2be17c780'}           65  130000000     130000000   \n",
       "{'$oid': '52b213b38594d8a2be17c781'}        54,24          0       4700000   \n",
       "{'$oid': '52b213b38594d8a2be17c782'}  52,81,25,47    6060000       6060000   \n",
       "\n",
       "                                                                                    url  \n",
       "_id                                                                                      \n",
       "{'$oid': '52b213b38594d8a2be17c780'}  http://www.worldbank.org/projects/P129828/ethi...  \n",
       "{'$oid': '52b213b38594d8a2be17c781'}  http://www.worldbank.org/projects/P144674?lang=en  \n",
       "{'$oid': '52b213b38594d8a2be17c782'}  http://www.worldbank.org/projects/P145310?lang=en  \n",
       "\n",
       "[3 rows x 49 columns]"
      ]
     },
     "execution_count": 46,
     "metadata": {},
     "output_type": "execute_result"
    }
   ],
   "source": [
    "df.head(3)"
   ]
  },
  {
   "cell_type": "code",
   "execution_count": 47,
   "metadata": {},
   "outputs": [
    {
     "data": {
      "text/plain": [
       "Index(['approvalfy', 'board_approval_month', 'boardapprovaldate', 'borrower',\n",
       "       'closingdate', 'country_namecode', 'countrycode', 'countryname',\n",
       "       'countryshortname', 'docty', 'envassesmentcategorycode', 'grantamt',\n",
       "       'ibrdcommamt', 'id', 'idacommamt', 'impagency', 'lendinginstr',\n",
       "       'lendinginstrtype', 'lendprojectcost', 'majorsector_percent',\n",
       "       'mjsector_namecode', 'mjtheme', 'mjtheme_namecode', 'mjthemecode',\n",
       "       'prodline', 'prodlinetext', 'productlinetype', 'project_abstract',\n",
       "       'project_name', 'projectdocs', 'projectfinancialtype',\n",
       "       'projectstatusdisplay', 'regionname', 'sector', 'sector1', 'sector2',\n",
       "       'sector3', 'sector4', 'sector_namecode', 'sectorcode', 'source',\n",
       "       'status', 'supplementprojectflg', 'theme1', 'theme_namecode',\n",
       "       'themecode', 'totalamt', 'totalcommamt', 'url'],\n",
       "      dtype='object')"
      ]
     },
     "execution_count": 47,
     "metadata": {},
     "output_type": "execute_result"
    }
   ],
   "source": [
    "df.columns"
   ]
  },
  {
   "cell_type": "code",
   "execution_count": 48,
   "metadata": {},
   "outputs": [
    {
     "name": "stdout",
     "output_type": "stream",
     "text": [
      "<class 'pandas.core.frame.DataFrame'>\n",
      "Index: 500 entries, {'$oid': '52b213b38594d8a2be17c780'} to {'$oid': '52b213b38594d8a2be17c973'}\n",
      "Data columns (total 49 columns):\n",
      "approvalfy                  500 non-null int64\n",
      "board_approval_month        500 non-null object\n",
      "boardapprovaldate           500 non-null object\n",
      "borrower                    485 non-null object\n",
      "closingdate                 370 non-null object\n",
      "country_namecode            500 non-null object\n",
      "countrycode                 500 non-null object\n",
      "countryname                 500 non-null object\n",
      "countryshortname            500 non-null object\n",
      "docty                       446 non-null object\n",
      "envassesmentcategorycode    430 non-null object\n",
      "grantamt                    500 non-null int64\n",
      "ibrdcommamt                 500 non-null int64\n",
      "id                          500 non-null object\n",
      "idacommamt                  500 non-null int64\n",
      "impagency                   472 non-null object\n",
      "lendinginstr                495 non-null object\n",
      "lendinginstrtype            495 non-null object\n",
      "lendprojectcost             500 non-null int64\n",
      "majorsector_percent         500 non-null object\n",
      "mjsector_namecode           500 non-null object\n",
      "mjtheme                     491 non-null object\n",
      "mjtheme_namecode            500 non-null object\n",
      "mjthemecode                 500 non-null object\n",
      "prodline                    500 non-null object\n",
      "prodlinetext                500 non-null object\n",
      "productlinetype             500 non-null object\n",
      "project_abstract            362 non-null object\n",
      "project_name                500 non-null object\n",
      "projectdocs                 446 non-null object\n",
      "projectfinancialtype        500 non-null object\n",
      "projectstatusdisplay        500 non-null object\n",
      "regionname                  500 non-null object\n",
      "sector                      500 non-null object\n",
      "sector1                     500 non-null object\n",
      "sector2                     380 non-null object\n",
      "sector3                     265 non-null object\n",
      "sector4                     174 non-null object\n",
      "sector_namecode             500 non-null object\n",
      "sectorcode                  500 non-null object\n",
      "source                      500 non-null object\n",
      "status                      500 non-null object\n",
      "supplementprojectflg        498 non-null object\n",
      "theme1                      500 non-null object\n",
      "theme_namecode              491 non-null object\n",
      "themecode                   491 non-null object\n",
      "totalamt                    500 non-null int64\n",
      "totalcommamt                500 non-null int64\n",
      "url                         500 non-null object\n",
      "dtypes: int64(7), object(42)\n",
      "memory usage: 195.3+ KB\n"
     ]
    }
   ],
   "source": [
    "df.info()"
   ]
  },
  {
   "cell_type": "markdown",
   "metadata": {},
   "source": [
    "# 1. Find the 10 countries with most projects"
   ]
  },
  {
   "cell_type": "code",
   "execution_count": 49,
   "metadata": {},
   "outputs": [
    {
     "data": {
      "text/plain": [
       "Republic of Indonesia              19\n",
       "People's Republic of China         19\n",
       "Socialist Republic of Vietnam      17\n",
       "Republic of India                  16\n",
       "Republic of Yemen                  13\n",
       "Nepal                              12\n",
       "People's Republic of Bangladesh    12\n",
       "Kingdom of Morocco                 12\n",
       "Africa                             11\n",
       "Republic of Mozambique             11\n",
       "Name: countryname, dtype: int64"
      ]
     },
     "execution_count": 49,
     "metadata": {},
     "output_type": "execute_result"
    }
   ],
   "source": [
    "df.countryname.value_counts(dropna= False)[:10]"
   ]
  },
  {
   "cell_type": "markdown",
   "metadata": {},
   "source": [
    "# 2. Find the top 10 major project themes (using column 'mjtheme_namecode')"
   ]
  },
  {
   "cell_type": "code",
   "execution_count": 50,
   "metadata": {},
   "outputs": [
    {
     "data": {
      "text/plain": [
       "[{'code': '11', 'name': 'Environment and natural resources management'}, {'code': '11', 'name': 'Environment and natural resources management'}]                                                                                12\n",
       "[{'code': '8', 'name': 'Human development'}, {'code': '11', 'name': ''}]                                                                                                                                                        11\n",
       "[{'code': '8', 'name': 'Human development'}, {'code': '8', 'name': 'Human development'}]                                                                                                                                         8\n",
       "[{'code': '4', 'name': 'Financial and private sector development'}, {'code': '4', 'name': 'Financial and private sector development'}]                                                                                           6\n",
       "[{'code': '2', 'name': 'Public sector governance'}, {'code': '2', 'name': 'Public sector governance'}, {'code': '2', 'name': 'Public sector governance'}]                                                                        6\n",
       "[{'code': '8', 'name': 'Human development'}, {'code': '7', 'name': 'Social dev/gender/inclusion'}]                                                                                                                               5\n",
       "[{'code': '8', 'name': 'Human development'}, {'code': '8', 'name': 'Human development'}, {'code': '8', 'name': 'Human development'}, {'code': '8', 'name': 'Human development'}, {'code': '8', 'name': 'Human development'}]     5\n",
       "[{'code': '11', 'name': 'Environment and natural resources management'}, {'code': '11', 'name': ''}]                                                                                                                             5\n",
       "[{'code': '11', 'name': 'Environment and natural resources management'}, {'code': '4', 'name': ''}]                                                                                                                              5\n",
       "[{'code': '4', 'name': 'Financial and private sector development'}, {'code': '5', 'name': 'Trade and integration'}]                                                                                                              5\n",
       "Name: mjtheme_namecode, dtype: int64"
      ]
     },
     "execution_count": 50,
     "metadata": {},
     "output_type": "execute_result"
    }
   ],
   "source": [
    "df.mjtheme_namecode.value_counts(dropna = False)[:10]"
   ]
  },
  {
   "cell_type": "markdown",
   "metadata": {},
   "source": [
    "The top 10 major theme projects are:\n",
    "\n",
    "1) Environment & natural resources management <br>\n",
    "2) Human development and Environment & natural resources management <br>\n",
    "3) Human development <br>\n",
    "4) Financial & private sector development <br>\n",
    "5) Public sector governance <br>\n",
    "6) Human development and Social dev/gender/inclusion <br>\n",
    "7) Human development <br>\n",
    "8) Environment"
   ]
  },
  {
   "cell_type": "markdown",
   "metadata": {},
   "source": [
    "## 3. In 2. above you will notice that some entries have only the code and the name is missing. Create a dataframe with the missing names filled in."
   ]
  },
  {
   "cell_type": "code",
   "execution_count": 66,
   "metadata": {},
   "outputs": [
    {
     "data": {
      "text/plain": [
       "{'code': '11', 'name': ''}"
      ]
     },
     "execution_count": 66,
     "metadata": {},
     "output_type": "execute_result"
    }
   ],
   "source": [
    "df.mjtheme_namecode[0][1]"
   ]
  },
  {
   "cell_type": "code",
   "execution_count": 220,
   "metadata": {},
   "outputs": [
    {
     "name": "stdout",
     "output_type": "stream",
     "text": [
      "defaultdict(None, {'8': 'Human development', '1': 'Economic management', '6': 'Social protection and risk management', '5': 'Trade and integration', '2': 'Public sector governance', '11': 'Environment and natural resources management', '7': 'Social dev/gender/inclusion', '4': 'Financial and private sector development', '10': 'Rural development', '9': 'Urban development', '3': 'Rule of law'})\n"
     ]
    }
   ],
   "source": [
    "themes = pd.DataFrame(df[['mjtheme', 'mjthemecode']])\n",
    "themes = themes.dropna()\n",
    "lookup = defaultdict()\n",
    "\n",
    "for index, values in themes.iterrows():\n",
    "    i = 0\n",
    "    codes = values['mjthemecode'].split(sep=',')\n",
    "    for theme in values['mjtheme']:\n",
    "        code = codes[i]\n",
    "        if code not in lookup.keys():\n",
    "            lookup[code] = theme\n",
    "        i += 1"
   ]
  },
  {
   "cell_type": "code",
   "execution_count": 228,
   "metadata": {},
   "outputs": [
    {
     "name": "stdout",
     "output_type": "stream",
     "text": [
      "Empty DataFrame\n",
      "Columns: [_id, approvalfy, board_approval_month, boardapprovaldate, borrower, closingdate, country_namecode, countrycode, countryname, countryshortname, docty, envassesmentcategorycode, grantamt, ibrdcommamt, id, idacommamt, impagency, lendinginstr, lendinginstrtype, lendprojectcost, majorsector_percent, mjsector_namecode, mjtheme, mjtheme_namecode, mjthemecode, prodline, prodlinetext, productlinetype, project_abstract, project_name, projectdocs, projectfinancialtype, projectstatusdisplay, regionname, sector, sector1, sector2, sector3, sector4, sector_namecode, sectorcode, source, status, supplementprojectflg, theme1, theme_namecode, themecode, totalamt, totalcommamt, url]\n",
      "Index: []\n",
      "\n",
      "[0 rows x 50 columns]\n"
     ]
    }
   ],
   "source": [
    "df['mjtheme_namecode'][0][1]['name'] = lookup[df['mjtheme_namecode'][0][1]['code']]"
   ]
  },
  {
   "cell_type": "code",
   "execution_count": 235,
   "metadata": {},
   "outputs": [
    {
     "name": "stdout",
     "output_type": "stream",
     "text": [
      "{'code': '1', 'name': 'Economic management'}\n",
      "{'code': '6', 'name': 'Social protection and risk management'}\n"
     ]
    }
   ],
   "source": [
    "for row in df['mjtheme_namecode'][1]:\n",
    "    print(row)"
   ]
  }
 ],
 "metadata": {
  "kernelspec": {
   "display_name": "Python 3",
   "language": "python",
   "name": "python3"
  },
  "language_info": {
   "codemirror_mode": {
    "name": "ipython",
    "version": 3
   },
   "file_extension": ".py",
   "mimetype": "text/x-python",
   "name": "python",
   "nbconvert_exporter": "python",
   "pygments_lexer": "ipython3",
   "version": "3.7.1"
  }
 },
 "nbformat": 4,
 "nbformat_minor": 2
}
